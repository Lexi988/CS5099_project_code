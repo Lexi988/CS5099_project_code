{
 "cells": [
  {
   "cell_type": "code",
   "execution_count": 1,
   "id": "bd676e50-b34a-4a2d-bdf7-eb06b6cf3221",
   "metadata": {},
   "outputs": [
    {
     "name": "stdout",
     "output_type": "stream",
     "text": [
      "The fitted polynomial is：\n",
      "        3         2\n",
      "-10.49 x + 13.72 x - 3.878 x + 0.3578\n"
     ]
    }
   ],
   "source": [
    "import numpy as np\n",
    "\n",
    "# 5 points\n",
    "x1 = np.array([0.07, 0.41, 0.51, 0.65, 0.70])\n",
    "y = np.array([0.15, 0.35, 0.56, 0.75, 0.77])\n",
    "\n",
    "# Fitting with polynomials\n",
    "cubic = np.polyfit(x1, y, 3)  # 3 Represents a cubic polynomial\n",
    "p1 = np.poly1d(cubic)\n",
    "\n",
    "print(\"The fitted polynomial is：\")\n",
    "print(p1)"
   ]
  },
  {
   "cell_type": "code",
   "execution_count": 2,
   "id": "0fd3eeb5-e612-41eb-9909-d38c38712012",
   "metadata": {},
   "outputs": [
    {
     "name": "stdout",
     "output_type": "stream",
     "text": [
      "The fitted polynomial is：\n",
      "        3         2\n",
      "-65.48 x + 103.6 x - 50.14 x + 7.589\n"
     ]
    }
   ],
   "source": [
    "import numpy as np\n",
    "\n",
    "# 5 points\n",
    "x1 = np.array([0.23, 0.28, 0.58, 0.68, 0.73])\n",
    "y = np.array([0.75, 0.22, 0.61, 0.77, 0.75])\n",
    "\n",
    "# Fitting with polynomials\n",
    "cubic = np.polyfit(x1, y, 3)  # 3 Represents a cubic polynomial\n",
    "p2 = np.poly1d(cubic)\n",
    "\n",
    "print(\"The fitted polynomial is：\")\n",
    "print(p2)"
   ]
  },
  {
   "cell_type": "code",
   "execution_count": 3,
   "id": "d2c2e83a-6ebf-4dae-9d53-d4ed9a4bb8e9",
   "metadata": {},
   "outputs": [
    {
     "name": "stdout",
     "output_type": "stream",
     "text": [
      "The fitted polynomial is：\n",
      "      3         2\n",
      "44.1 x - 55.06 x + 19.04 x - 0.9287\n"
     ]
    }
   ],
   "source": [
    "import numpy as np\n",
    "\n",
    "# 5 points\n",
    "x1 = np.array([0.07, 0.50, 0.71, 0.72, 0.38])\n",
    "y = np.array([0.15, 0.35, 0.56, 0.75,0.77])\n",
    "\n",
    "# Fitting with polynomials\n",
    "cubic = np.polyfit(x1, y, 3)  # 3 Represents a cubic polynomial\n",
    "p3 = np.poly1d(cubic)\n",
    "\n",
    "print(\"The fitted polynomial is：\")\n",
    "print(p3)"
   ]
  },
  {
   "cell_type": "code",
   "execution_count": 4,
   "id": "fa9d9cdd-3cb2-417e-aebf-1bc9b5aca9a5",
   "metadata": {},
   "outputs": [
    {
     "name": "stdout",
     "output_type": "stream",
     "text": [
      "The fitted polynomial is：\n",
      "        3         2\n",
      "-5.857 x + 5.981 x - 0.7668 x + 0.2916\n"
     ]
    }
   ],
   "source": [
    "import numpy as np\n",
    "\n",
    "# 5 points\n",
    "x1 = np.array([0.22, 0.37, 0.61, 0.61, 0.75])\n",
    "y = np.array([0.35, 0.53, 0.69, 0.75, 0.61])\n",
    "\n",
    "# Fitting with polynomials\n",
    "cubic = np.polyfit(x1, y, 3)  # 3 Represents a cubic polynomial\n",
    "p4 = np.poly1d(cubic)\n",
    "\n",
    "print(\"The fitted polynomial is：\")\n",
    "print(p4)"
   ]
  },
  {
   "cell_type": "code",
   "execution_count": 5,
   "id": "30bdcab5-7bfd-4bbc-8db9-8c880739ed84",
   "metadata": {},
   "outputs": [
    {
     "name": "stdout",
     "output_type": "stream",
     "text": [
      "data:\n",
      "        Year  GDP_Y  Positive_Destination_x1  Expenditure_x2  Average_age_x3  \\\n",
      "0  2018-2019   0.62                     0.46            0.27            0.79   \n",
      "1  2019-2020   0.18                     0.20            0.32            0.53   \n",
      "2  2020-2021   0.60                     0.63            0.65            0.32   \n",
      "3  2021-2022   0.62                     0.71            0.74            0.31   \n",
      "\n",
      "   Investment_x4  \n",
      "0           0.38  \n",
      "1           0.25  \n",
      "2           0.57  \n",
      "3           0.77  \n",
      "\n",
      "=== Model ===\n",
      "coefficient: A=1.04e+00, α1=1.5490, α2=-0.2698, α3=0.1448, α4=-0.3751\n",
      "Function: Y = 1.04e+00 * X1^1.5490 * X2^-0.2698 * X3^0.1448 * X4^-0.3751\n",
      "R² = 1.0000, RMSE = 0.00\n",
      "actual value  vs predicted value:\n",
      "2018-2019: actual=1, predicted=1, error=0.00%\n",
      "2019-2020: actual=0, predicted=0, error=0.00%\n",
      "2020-2021: actual=1, predicted=1, error=0.00%\n",
      "2021-2022: actual=1, predicted=1, error=0.00%\n"
     ]
    }
   ],
   "source": [
    "import numpy as np\n",
    "import pandas as pd\n",
    "from scipy.optimize import curve_fit\n",
    "from sklearn.preprocessing import StandardScaler\n",
    "from sklearn.metrics import r2_score, mean_squared_error\n",
    "import matplotlib.pyplot as plt\n",
    "import seaborn as sns\n",
    "\n",
    "# input\n",
    "data = {\n",
    "    'Year': ['2018-2019', '2019-2020', '2020-2021', '2021-2022'],\n",
    "    'GDP_Y': [0.62, 0.18, 0.60, 0.62],\n",
    "    'Positive_Destination_x1': [0.46, 0.20, 0.63, 0.71],\n",
    "    'Expenditure_x2': [0.27, 0.32, 0.65, 0.74],\n",
    "    'Average_age_x3': [0.79, 0.53, 0.32, 0.31],\n",
    "    'Investment_x4': [0.38, 0.25, 0.57, 0.77]\n",
    "}\n",
    "\n",
    "df = pd.DataFrame(data)\n",
    "print(\"data:\")\n",
    "print(df)\n",
    "\n",
    "# get values\n",
    "Y = df['GDP_Y'].values\n",
    "X1 = df['Positive_Destination_x1'].values\n",
    "X2 = df['Expenditure_x2'].values\n",
    "X3 = df['Average_age_x3'].values\n",
    "X4 = df['Investment_x4'].values\n",
    "\n",
    "#  Cobb-Douglas\n",
    "# Y = A * X1^α1 * X2^α2 * X3^α3 * X4^α4\n",
    "def cobb_douglas(X, A, alpha1, alpha2, alpha3, alpha4):\n",
    "    x1, x2, x3, x4 = X\n",
    "    return A * (x1**alpha1) * (x2**alpha2) * (x3**alpha3) * (x4**alpha4)\n",
    "\n",
    "# ln(Y) = ln(A) + α1*ln(X1) + α2*ln(X2) + α3*ln(X3) + α4*ln(X4)\n",
    "def log_linear_fit():\n",
    "    \n",
    "    ln_Y = np.log(Y)\n",
    "    ln_X1 = np.log(X1)\n",
    "    ln_X2 = np.log(X2)\n",
    "    ln_X3 = np.log(X3)\n",
    "    ln_X4 = np.log(X4)\n",
    "\n",
    "    X_matrix = np.column_stack([np.ones(len(Y)), ln_X1, ln_X2, ln_X3, ln_X4])\n",
    "\n",
    "    coeffs = np.linalg.lstsq(X_matrix, ln_Y, rcond=None)[0]\n",
    "    \n",
    "    return coeffs\n",
    "\n",
    "print(\"\\n=== Model ===\")\n",
    "try:\n",
    "    log_coeffs = log_linear_fit()\n",
    "    ln_A, alpha1, alpha2, alpha3, alpha4 = log_coeffs\n",
    "    A = np.exp(ln_A)\n",
    "    \n",
    "    Y_pred_log = A * (X1**alpha1) * (X2**alpha2) * (X3**alpha3) * (X4**alpha4)\n",
    "    r2_log = r2_score(Y, Y_pred_log)\n",
    "    rmse_log = np.sqrt(mean_squared_error(Y, Y_pred_log))\n",
    "    \n",
    "    print(f\"coefficient: A={A:.2e}, α1={alpha1:.4f}, α2={alpha2:.4f}, α3={alpha3:.4f}, α4={alpha4:.4f}\")\n",
    "    print(f\"Function: Y = {A:.2e} * X1^{alpha1:.4f} * X2^{alpha2:.4f} * X3^{alpha3:.4f} * X4^{alpha4:.4f}\")\n",
    "    print(f\"R² = {r2_log:.4f}, RMSE = {rmse_log:.2f}\")\n",
    "    \n",
    "    print(\"actual value  vs predicted value:\")\n",
    "    for i in range(len(Y)):\n",
    "        print(f\"{data['Year'][i]}: actual={Y[i]:.0f}, predicted={Y_pred_log[i]:.0f}, error={abs(Y[i]-Y_pred_log[i])/Y[i]*100:.2f}%\")\n",
    "    \n",
    "except Exception as e:\n",
    "    print(f\"fail: {e}\")\n"
   ]
  }
 ],
 "metadata": {
  "kernelspec": {
   "display_name": "Python 3 (ipykernel)",
   "language": "python",
   "name": "python3"
  },
  "language_info": {
   "codemirror_mode": {
    "name": "ipython",
    "version": 3
   },
   "file_extension": ".py",
   "mimetype": "text/x-python",
   "name": "python",
   "nbconvert_exporter": "python",
   "pygments_lexer": "ipython3",
   "version": "3.12.7"
  }
 },
 "nbformat": 4,
 "nbformat_minor": 5
}

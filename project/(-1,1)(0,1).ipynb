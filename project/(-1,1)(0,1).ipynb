{
 "cells": [
  {
   "cell_type": "code",
   "execution_count": 1,
   "id": "243bbdf2-b656-42fa-acdb-e9c77b438f58",
   "metadata": {},
   "outputs": [
    {
     "name": "stdout",
     "output_type": "stream",
     "text": [
      "         x1        x2        x3        x4         Y\n",
      "0 -0.065269 -0.455472  0.591511 -0.228926  0.255150\n",
      "1 -0.588524 -0.340331  0.071456 -0.490471 -0.634833\n",
      "2  0.275896  0.301959 -0.353832  0.147758  0.219732\n",
      "3  0.428071  0.488720 -0.364223  0.551747  0.259137\n"
     ]
    }
   ],
   "source": [
    "import pandas as pd\n",
    "import numpy as np\n",
    "\n",
    "# 原始数据\n",
    "data = {\n",
    "    'x1': [0.928, 0.921, 0.932, 0.934],\n",
    "    'x2': [35303163, 37701317, 49352117, 53247205],\n",
    "    'x3': [79.13, 78.875, 78.69, 78.685],\n",
    "    'x4': [593, 465, 754, 953],\n",
    "    'Y': [187525, 16907, 181186, 188246]\n",
    "}\n",
    "\n",
    "df = pd.DataFrame(data)\n",
    "\n",
    "# Z-score 标准化（避免 sigmoid 饱和）\n",
    "df_zscore = (df - df.mean()) / df.std()\n",
    "\n",
    "# 应用 f(x) = (sigmoid(x) - 0.5) * 2\n",
    "def normalize(x):\n",
    "    return (1 / (1 + np.exp(-x)) - 0.5) * 2\n",
    "\n",
    "df_normalized = df_zscore.apply(normalize)\n",
    "\n",
    "print(df_normalized)\n",
    "\n"
   ]
  },
  {
   "cell_type": "code",
   "execution_count": 2,
   "id": "51577e03-2beb-4081-ad0a-db13eb6cc364",
   "metadata": {},
   "outputs": [
    {
     "name": "stdout",
     "output_type": "stream",
     "text": [
      "         x1        x2        x3        x4         Y\n",
      "0  0.467366  0.272264  0.795755  0.385537  0.627575\n",
      "1  0.205738  0.329834  0.535728  0.254764  0.182583\n",
      "2  0.637948  0.650979  0.323084  0.573879  0.609866\n",
      "3  0.714035  0.744360  0.317888  0.775873  0.629568\n"
     ]
    }
   ],
   "source": [
    "import pandas as pd\n",
    "import numpy as np\n",
    "\n",
    "# 原始数据\n",
    "data = {\n",
    "    'x1': [0.928, 0.921, 0.932, 0.934],\n",
    "    'x2': [35303163, 37701317, 49352117, 53247205],\n",
    "    'x3': [79.13, 78.875, 78.69, 78.685],\n",
    "    'x4': [593, 465, 754, 953],\n",
    "    'Y': [187525, 16907, 181186, 188246]\n",
    "}\n",
    "\n",
    "df = pd.DataFrame(data)\n",
    "\n",
    "# Step 1: Z-score 标准化\n",
    "df_zscore = (df - df.mean()) / df.std()\n",
    "\n",
    "# Step 2: sigmoid归一化到 (0, 1)\n",
    "def sigmoid(x):\n",
    "    return 1 / (1 + np.exp(-x))\n",
    "\n",
    "df_normalized_0_1 = df_zscore.apply(sigmoid)\n",
    "\n",
    "print(df_normalized_0_1)\n"
   ]
  },
  {
   "cell_type": "code",
   "execution_count": null,
   "id": "ae3644dc-58b7-4c0b-9ea1-01878ae5e16f",
   "metadata": {},
   "outputs": [],
   "source": []
  }
 ],
 "metadata": {
  "kernelspec": {
   "display_name": "Python 3 (ipykernel)",
   "language": "python",
   "name": "python3"
  },
  "language_info": {
   "codemirror_mode": {
    "name": "ipython",
    "version": 3
   },
   "file_extension": ".py",
   "mimetype": "text/x-python",
   "name": "python",
   "nbconvert_exporter": "python",
   "pygments_lexer": "ipython3",
   "version": "3.12.7"
  }
 },
 "nbformat": 4,
 "nbformat_minor": 5
}

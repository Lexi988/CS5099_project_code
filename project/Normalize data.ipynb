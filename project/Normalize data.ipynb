{
 "cells": [
  {
   "cell_type": "code",
   "execution_count": 1,
   "id": "7694ac92-cb88-489c-8c98-92beab6494c6",
   "metadata": {},
   "outputs": [
    {
     "name": "stdout",
     "output_type": "stream",
     "text": [
      "           Y\n",
      "0   0.157940\n",
      "1   0.217047\n",
      "2   0.261620\n",
      "3   0.352102\n",
      "4   0.489232\n",
      "5   0.533955\n",
      "6   0.558270\n",
      "7   0.693075\n",
      "8   0.693075\n",
      "9   0.755605\n",
      "10  0.223178\n",
      "11  0.613686\n",
      "12  0.769320\n",
      "13  0.750074\n"
     ]
    }
   ],
   "source": [
    "import pandas as pd\n",
    "import numpy as np\n",
    "\n",
    "# 原始数据\n",
    "data = {\n",
    "\n",
    "    'Y': [160848, 164567, 166903, 170975, 176370, 178075, 179009, 184534, 184534, 187525, 164907, 181186, 188246, 187242]\n",
    "}\n",
    "\n",
    "df = pd.DataFrame(data)\n",
    "\n",
    "# Step 1: Z-score 标准化\n",
    "df_zscore = (df - df.mean()) / df.std()\n",
    "\n",
    "# Step 2: sigmoid归一化到 (0, 1)\n",
    "def sigmoid(x):\n",
    "    return 1 / (1 + np.exp(-x))\n",
    "\n",
    "df_normalized_0_1 = df_zscore.apply(sigmoid)\n",
    "\n",
    "print(df_normalized_0_1)"
   ]
  },
  {
   "cell_type": "code",
   "execution_count": 2,
   "id": "b7693e8f-b74b-4c8d-8894-2a962404a83f",
   "metadata": {},
   "outputs": [
    {
     "name": "stdout",
     "output_type": "stream",
     "text": [
      "          x1\n",
      "0   0.076825\n",
      "1   0.158659\n",
      "2   0.334794\n",
      "3   0.411115\n",
      "4   0.542987\n",
      "5   0.573240\n",
      "6   0.512414\n",
      "7   0.659980\n",
      "8   0.686953\n",
      "9   0.650742\n",
      "10  0.583215\n",
      "11  0.686953\n",
      "12  0.704271\n",
      "13  0.650742\n"
     ]
    }
   ],
   "source": [
    "import pandas as pd\n",
    "import numpy as np\n",
    "\n",
    "# 原始数据\n",
    "data = {\n",
    "\n",
    "    'x1': [0.852, 0.872, 0.896, 0.904, 0.917, 0.92, 0.914, 0.929, 0.932, 0.928, 0.921, 0.932, 0.934, 0.928]\n",
    "}\n",
    "\n",
    "df = pd.DataFrame(data)\n",
    "\n",
    "# Step 1: Z-score 标准化\n",
    "df_zscore = (df - df.mean()) / df.std()\n",
    "\n",
    "# Step 2: sigmoid归一化到 (0, 1)\n",
    "def sigmoid(x):\n",
    "    return 1 / (1 + np.exp(-x))\n",
    "\n",
    "df_normalized_0_1 = df_zscore.apply(sigmoid)\n",
    "\n",
    "print(df_normalized_0_1)"
   ]
  },
  {
   "cell_type": "code",
   "execution_count": 3,
   "id": "faa5d641-7db7-4df8-a222-0df338bbac1b",
   "metadata": {},
   "outputs": [
    {
     "name": "stdout",
     "output_type": "stream",
     "text": [
      "         x2\n",
      "0  0.234199\n",
      "1  0.283646\n",
      "2  0.581385\n",
      "3  0.678743\n",
      "4  0.737833\n"
     ]
    }
   ],
   "source": [
    "import pandas as pd\n",
    "import numpy as np\n",
    "\n",
    "# 原始数据\n",
    "data = {\n",
    "    'x2': [35303163, 37701317, 49352117, 53247205, 55909300]\n",
    "}\n",
    "\n",
    "df = pd.DataFrame(data)\n",
    "\n",
    "# Step 1: Z-score 标准化\n",
    "df_zscore = (df - df.mean()) / df.std()\n",
    "\n",
    "# Step 2: sigmoid归一化到 (0, 1)\n",
    "def sigmoid(x):\n",
    "    return 1 / (1 + np.exp(-x))\n",
    "\n",
    "df_normalized_0_1 = df_zscore.apply(sigmoid)\n",
    "\n",
    "print(df_normalized_0_1)"
   ]
  },
  {
   "cell_type": "code",
   "execution_count": 4,
   "id": "b758b07a-9218-4f01-ab0d-6b3fafdd1350",
   "metadata": {},
   "outputs": [
    {
     "name": "stdout",
     "output_type": "stream",
     "text": [
      "          x3\n",
      "0   0.078613\n",
      "1   0.209293\n",
      "2   0.344450\n",
      "3   0.502563\n",
      "4   0.674325\n",
      "5   0.718110\n",
      "6   0.718110\n",
      "7   0.677817\n",
      "8   0.677817\n",
      "9   0.721327\n",
      "10  0.534400\n",
      "11  0.388843\n",
      "12  0.385061\n",
      "13  0.542326\n"
     ]
    }
   ],
   "source": [
    "import pandas as pd\n",
    "import numpy as np\n",
    "\n",
    "# 原始数据\n",
    "data = {\n",
    "    'x3': [78.06, 78.415, 78.63, 78.835, 79.06, 79.125, 79.125, 79.065, 79.065, 79.13, 78.875, 78.69, 78.685, 78.885],\n",
    "}\n",
    "\n",
    "df = pd.DataFrame(data)\n",
    "\n",
    "# Step 1: Z-score 标准化\n",
    "df_zscore = (df - df.mean()) / df.std()\n",
    "\n",
    "# Step 2: sigmoid归一化到 (0, 1)\n",
    "def sigmoid(x):\n",
    "    return 1 / (1 + np.exp(-x))\n",
    "\n",
    "df_normalized_0_1 = df_zscore.apply(sigmoid)\n",
    "\n",
    "print(df_normalized_0_1)"
   ]
  },
  {
   "cell_type": "code",
   "execution_count": 5,
   "id": "8d82fa10-f098-4058-b6fa-b5675acc0bd0",
   "metadata": {},
   "outputs": [
    {
     "name": "stdout",
     "output_type": "stream",
     "text": [
      "         x4\n",
      "0  0.227323\n",
      "1  0.273031\n",
      "2  0.369814\n",
      "3  0.343736\n",
      "4  0.610156\n",
      "5  0.370796\n",
      "6  0.611157\n",
      "7  0.478331\n",
      "8  0.755844\n",
      "9  0.877381\n"
     ]
    }
   ],
   "source": [
    "import pandas as pd\n",
    "import numpy as np\n",
    "\n",
    "# 原始数据\n",
    "data = {\n",
    "    'x4': [195, 253, 359, 332, 592, 360, 593, 465, 754, 953],\n",
    "}\n",
    "\n",
    "df = pd.DataFrame(data)\n",
    "\n",
    "# Step 1: Z-score 标准化\n",
    "df_zscore = (df - df.mean()) / df.std()\n",
    "\n",
    "# Step 2: sigmoid归一化到 (0, 1)\n",
    "def sigmoid(x):\n",
    "    return 1 / (1 + np.exp(-x))\n",
    "\n",
    "df_normalized_0_1 = df_zscore.apply(sigmoid)\n",
    "\n",
    "print(df_normalized_0_1)"
   ]
  }
 ],
 "metadata": {
  "kernelspec": {
   "display_name": "Python 3 (ipykernel)",
   "language": "python",
   "name": "python3"
  },
  "language_info": {
   "codemirror_mode": {
    "name": "ipython",
    "version": 3
   },
   "file_extension": ".py",
   "mimetype": "text/x-python",
   "name": "python",
   "nbconvert_exporter": "python",
   "pygments_lexer": "ipython3",
   "version": "3.12.7"
  }
 },
 "nbformat": 4,
 "nbformat_minor": 5
}

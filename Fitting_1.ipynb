{
 "cells": [
  {
   "cell_type": "code",
   "execution_count": 1,
   "id": "ac9d4867-4757-45ac-ad9b-1c053539454e",
   "metadata": {},
   "outputs": [
    {
     "name": "stdout",
     "output_type": "stream",
     "text": [
      "The fitted polynomial is：\n",
      "            3             2\n",
      "-1.931e+08 x + 5.185e+08 x - 4.631e+08 x + 1.377e+08\n"
     ]
    }
   ],
   "source": [
    "import numpy as np\n",
    "\n",
    "# 5 points\n",
    "x1 = np.array([0.825, 0.904, 0.914, 0.928, 0.934])\n",
    "y = np.array([160848, 170975, 179009, 187525, 188246])\n",
    "\n",
    "# Fitting with polynomials\n",
    "coeffs = np.polyfit(x1, y, 3)  # 3 Represents a cubic polynomial\n",
    "p1 = np.poly1d(coeffs)\n",
    "\n",
    "print(\"The fitted polynomial is：\")\n",
    "print(p1)\n"
   ]
  },
  {
   "cell_type": "code",
   "execution_count": 2,
   "id": "c9633e89-32a9-4b9f-b6e8-2af36be6a0b8",
   "metadata": {},
   "outputs": [
    {
     "name": "stdout",
     "output_type": "stream",
     "text": [
      "The fitted polynomial is：\n",
      "            3             2\n",
      "-3.619e-17 x + 5.159e-09 x - 0.241 x + 3.856e+06\n"
     ]
    }
   ],
   "source": [
    "import numpy as np\n",
    "\n",
    "# 5 points\n",
    "x2 = np.array([35303163, 37701317, 49352117, 53247205, 55909300])\n",
    "y = np.array([187525, 164907, 181186, 188246, 187242])\n",
    "\n",
    "# Fitting with polynomials\n",
    "coeffs = np.polyfit(x2, y, 3)  # 3 Represents a cubic polynomial\n",
    "p2 = np.poly1d(coeffs)\n",
    "\n",
    "print(\"The fitted polynomial is：\")\n",
    "print(p2)"
   ]
  },
  {
   "cell_type": "code",
   "execution_count": 3,
   "id": "bb8edfcc-2d50-467a-9afa-f09a002458ed",
   "metadata": {},
   "outputs": [
    {
     "name": "stdout",
     "output_type": "stream",
     "text": [
      "The fitted polynomial is：\n",
      "           3             2\n",
      "5.362e+05 x - 1.265e+08 x + 9.953e+09 x - 2.609e+11\n"
     ]
    }
   ],
   "source": [
    "import numpy as np\n",
    "\n",
    "# 5 points\n",
    "x3 = np.array([78.06, 78.835, 79.125, 79.13, 78.685])\n",
    "y = np.array([160848, 170975, 179009, 187525, 188246])\n",
    "\n",
    "# Fitting with polynomials\n",
    "coeffs = np.polyfit(x3, y, 3)  # 3 Represents a cubic polynomial\n",
    "p3 = np.poly1d(coeffs)\n",
    "\n",
    "print(\"The fitted polynomial is：\")\n",
    "print(p3)\n"
   ]
  },
  {
   "cell_type": "code",
   "execution_count": 4,
   "id": "98dce4cd-26e1-40ea-80ab-bd13de3e5a0c",
   "metadata": {},
   "outputs": [
    {
     "name": "stdout",
     "output_type": "stream",
     "text": [
      "The fitted polynomial is：\n",
      "          3         2\n",
      "0.001967 x - 1.924 x + 658.7 x + 1.011e+05\n"
     ]
    }
   ],
   "source": [
    "import numpy as np\n",
    "\n",
    "# 5 points\n",
    "x4 = np.array([195, 290, 402, 441, 424])\n",
    "y = np.array([170975, 178075, 184534, 187525, 181186])\n",
    "\n",
    "# Fitting with polynomials\n",
    "coeffs = np.polyfit(x4, y, 3)  # 3 Represents a cubic polynomial\n",
    "p4 = np.poly1d(coeffs)\n",
    "\n",
    "print(\"The fitted polynomial is：\")\n",
    "print(p4)"
   ]
  },
  {
   "cell_type": "code",
   "execution_count": 20,
   "id": "6f2255f7-498f-4831-afdd-817d405258e3",
   "metadata": {},
   "outputs": [
    {
     "name": "stdout",
     "output_type": "stream",
     "text": [
      "datasets:\n",
      "        Year     GDP_Y  Positive_Destination_x1  Expenditure_x2  \\\n",
      "0  2018-2019  187525.0                     92.8        35303163   \n",
      "1  2019-2020  164907.0                     92.1        37701317   \n",
      "2  2020-2021  181186.0                     93.2        49352117   \n",
      "3  2021-2022  188246.0                     93.4        53247205   \n",
      "\n",
      "   Average_age_x3  Investment_x4  \n",
      "0          79.130            593  \n",
      "1          78.875            465  \n",
      "2          78.690            754  \n",
      "3          78.685            953  \n",
      "\n",
      "Range:\n",
      "GDP(Y): 164907 - 188246\n",
      "Positive Destination(X1): 92.10% - 93.40%\n",
      "Exprnditure(X2): 35303163 - 53247205\n",
      "Average age(X3): 78.685 - 79.130\n",
      "Investment(X4): 465 - 953\n",
      "\n",
      "=== Model ===\n",
      "coefficients: A=4.56e-01, α1=7.3699, α2=-0.4184, α3=-3.3547, α4=0.2305\n",
      "Function: Y = 4.56e-01 * X1^7.3699 * X2^-0.4184 * X3^-3.3547 * X4^0.2305\n",
      "R² = 1.0000, RMSE = 0.00\n",
      "\n",
      "Actual values vs predicted values:\n",
      "2018-2019: Actural=187525, predicted=187525, error=0.00%\n",
      "2019-2020: Actural=164907, predicted=164907, error=0.00%\n",
      "2020-2021: Actural=181186, predicted=181186, error=0.00%\n",
      "2021-2022: Actural=188246, predicted=188246, error=0.00%\n"
     ]
    }
   ],
   "source": [
    "import numpy as np\n",
    "import pandas as pd\n",
    "from scipy.optimize import curve_fit\n",
    "from sklearn.preprocessing import StandardScaler\n",
    "from sklearn.metrics import r2_score, mean_squared_error\n",
    "import matplotlib.pyplot as plt\n",
    "import seaborn as sns\n",
    "\n",
    "# input\n",
    "data = {\n",
    "    'Year': ['2018-2019', '2019-2020', '2020-2021', '2021-2022'],\n",
    "    'GDP_Y': [187525.00, 164907.00, 181186.00, 188246.00],\n",
    "    'Positive_Destination_x1': [92.80, 92.10, 93.20, 93.40],\n",
    "    'Expenditure_x2': [35303163, 37701317, 49352117, 53247205],\n",
    "    'Average_age_x3': [79.13, 78.875, 78.69, 78.685],\n",
    "    'Investment_x4': [593, 465, 754, 953]\n",
    "}\n",
    "\n",
    "df = pd.DataFrame(data)\n",
    "print(\"datasets:\")\n",
    "print(df)\n",
    "\n",
    "# get values\n",
    "Y = df['GDP_Y'].values\n",
    "X1 = df['Positive_Destination_x1'].values\n",
    "X2 = df['Expenditure_x2'].values\n",
    "X3 = df['Average_age_x3'].values\n",
    "X4 = df['Investment_x4'].values\n",
    "\n",
    "\n",
    "print(f\"\\nRange:\")\n",
    "print(f\"GDP(Y): {Y.min():.0f} - {Y.max():.0f}\")\n",
    "print(f\"Positive Destination(X1): {X1.min():.2f}% - {X1.max():.2f}%\")\n",
    "print(f\"Exprnditure(X2): {X2.min():.0f} - {X2.max():.0f}\")\n",
    "print(f\"Average age(X3): {X3.min():.3f} - {X3.max():.3f}\")\n",
    "print(f\"Investment(X4): {X4.min():.0f} - {X4.max():.0f}\")\n",
    "\n",
    "# Model:Cobb-Douglas\n",
    "# Y = A * X1^α1 * X2^α2 * X3^α3 * X4^α4\n",
    "def cobb_douglas(X, A, alpha1, alpha2, alpha3, alpha4):\n",
    "    x1, x2, x3, x4 = X\n",
    "    return A * (x1**alpha1) * (x2**alpha2) * (x3**alpha3) * (x4**alpha4)\n",
    "\n",
    "# Fitting the model\n",
    "print(\"\\n=== Model ===\")\n",
    "try:\n",
    "    log_coeffs = log_linear_fit()\n",
    "    ln_A, alpha1, alpha2, alpha3, alpha4 = log_coeffs\n",
    "    A = np.exp(ln_A)\n",
    "    \n",
    "    # predict\n",
    "    Y_pred_log = A * (X1**alpha1) * (X2**alpha2) * (X3**alpha3) * (X4**alpha4)\n",
    "    r2_log = r2_score(Y, Y_pred_log)\n",
    "    rmse_log = np.sqrt(mean_squared_error(Y, Y_pred_log))\n",
    "    \n",
    "    print(f\"coefficients: A={A:.2e}, α1={alpha1:.4f}, α2={alpha2:.4f}, α3={alpha3:.4f}, α4={alpha4:.4f}\")\n",
    "    print(f\"Function: Y = {A:.2e} * X1^{alpha1:.4f} * X2^{alpha2:.4f} * X3^{alpha3:.4f} * X4^{alpha4:.4f}\")\n",
    "    print(f\"R² = {r2_log:.4f}, RMSE = {rmse_log:.2f}\")\n",
    "    \n",
    "    print(\"\\nActual values vs predicted values:\")\n",
    "    for i in range(len(Y)):\n",
    "        print(f\"{data['Year'][i]}: Actural={Y[i]:.0f}, predicted={Y_pred_log[i]:.0f}, error={abs(Y[i]-Y_pred_log[i])/Y[i]*100:.2f}%\")\n",
    "    \n",
    "except Exception as e:\n",
    "    print(f\"Model fitting failed: {e}\")\n",
    "\n"
   ]
  },
  {
   "cell_type": "code",
   "execution_count": null,
   "id": "c9980ac6-69b3-459f-85cf-7c615b6f92a5",
   "metadata": {},
   "outputs": [],
   "source": []
  }
 ],
 "metadata": {
  "kernelspec": {
   "display_name": "Python 3 (ipykernel)",
   "language": "python",
   "name": "python3"
  },
  "language_info": {
   "codemirror_mode": {
    "name": "ipython",
    "version": 3
   },
   "file_extension": ".py",
   "mimetype": "text/x-python",
   "name": "python",
   "nbconvert_exporter": "python",
   "pygments_lexer": "ipython3",
   "version": "3.12.7"
  }
 },
 "nbformat": 4,
 "nbformat_minor": 5
}
